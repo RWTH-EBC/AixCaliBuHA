{
    "cells": [
        {
            "cell_type": "markdown",
            "metadata": {},
            "source": " # Example 1-A Energy system analysis\n Goals of this part of the examples:\n 1. Learn how to analyze the model of your energy system\n 2. Improve your `SimulationAPI` knowledge\n 3. Improve your skill-set on `TimeSeriesData`\n 4. Generate some measured data to later use in a calibration\n"
        },
        {
            "cell_type": "markdown",
            "metadata": {},
            "source": " Start by importing all relevant packages\n"
        },
        {
            "cell_type": "code",
            "execution_count": null,
            "metadata": {},
            "outputs": [],
            "source": "import pathlib\nimport matplotlib.pyplot as plt\n"
        },
        {
            "cell_type": "markdown",
            "metadata": {},
            "source": " Imports from ebcpy\n"
        },
        {
            "cell_type": "code",
            "execution_count": null,
            "metadata": {},
            "outputs": [],
            "source": "from ebcpy import DymolaAPI, TimeSeriesData\n"
        },
        {
            "cell_type": "markdown",
            "metadata": {},
            "source": " Please define the missing TODOs in the section below according to the docstrings.\n"
        },
        {
            "cell_type": "code",
            "execution_count": null,
            "metadata": {},
            "outputs": [],
            "source": "\"\"\"\nArguments of this example:\n\n:param str examples_dir:\n    Path to the examples folder of AixCaliBuHA\n:param str aixlib_mo:\n    Path to the package.mo of the AixLib.\n    This example was tested for AixLib version 1.0.0.\n:param str cd:\n    Path in which to store the output.\n    Default is the examples\\results folder\n:param bool with_plot:\n    Show the plot at the end of the script. Default is True.\n\"\"\"\nexamples_dir = \"TODO: Add a valid input according to the docstring above\"\naixlib_mo = \"TODO: Add a valid input according to the docstring above\"\ncd = None\nwith_plot = True\n"
        },
        {
            "cell_type": "markdown",
            "metadata": {},
            "source": " General settings\n"
        },
        {
            "cell_type": "code",
            "execution_count": null,
            "metadata": {},
            "outputs": [],
            "source": "if cd is None:\n    cd = pathlib.Path(examples_dir).joinpath(\"results\")\nelse:\n    cd = pathlib.Path(cd)\nexamples_dir = pathlib.Path(examples_dir)\naixcalibuha_mo = examples_dir.joinpath(\"model\", \"AixCaliBuHAExamples.mo\")\n"
        },
        {
            "cell_type": "markdown",
            "metadata": {},
            "source": " ## System analysis\n The best way to analyze the model which we later want to calibrate\n is to either pause here (set a debug point) or open the models in a GUI (OpenModelica, Dymola, o.s.).\n The model looks like this (only works in markdown and jupyter versions): ![img.png](../data/img_A.png)\n Click through the system and subsystem to understand what happens in the model.\n As you may have guessed, the analysis of an energy system can be quite complex\n and is thus hard to automize. Before using AixCaliBuHA, you should understand\n what happens in your system. If you have questions regarding modeling assumptions,\n ask e.g. the model developers of the library you are using,\n in this case the AixLib.\n\n Start by setting up the Dymola-API. For more info, see the examples in ebcpy.\n"
        },
        {
            "cell_type": "code",
            "execution_count": null,
            "metadata": {},
            "outputs": [],
            "source": "dym_api = DymolaAPI(\n    model_name=\"AixCaliBuHAExamples.HeatPumpSystemCalibration\",\n    cd=cd,\n    packages=[\n        aixlib_mo,\n        aixcalibuha_mo\n    ],\n    show_window=True,\n    equidistant_output=False\n)\nprint(\"Pausing for analysis. Set the break point here if you like!\")\n"
        },
        {
            "cell_type": "markdown",
            "metadata": {},
            "source": " ## Data generation\n We want to exemplify the process of getting experimental data using\n the model we later want to calibrate.\n This is a good example for two reasons:\n 1. You really know the optimal parameters\n 2. We don't have to deal with measurement noise etc.\n\n For this example, we simulate 1 h with a 1 s sampling rate.\n For further simulation help, check out the ebcpy examples.\n"
        },
        {
            "cell_type": "code",
            "execution_count": null,
            "metadata": {},
            "outputs": [],
            "source": "dym_api.set_sim_setup({\n    \"stop_time\": 3600,\n    \"output_interval\": 10\n})\nfile_path = dym_api.simulate(\n)\n"
        },
        {
            "cell_type": "markdown",
            "metadata": {},
            "source": " ## Data analysis\n Now let's analyze the data we've generated.\n Open the file first and extract variables of interest.\n As the model concerns a heat pump, we are most interested in\n variables relevant for heat pumps. This could be the\n electrical power consumption (Pel) and room comfort (TAir)\n supplied by the heat pump.\n When looking at the model, we have one input:\n TDryBulSource.y, which represents the outdoor air temperature.\n This input is important for heat pumps, as efficiency mainly depends\n on source temperatures, and the model is of an air source heat pump.\n We thus also extract this input for our data analysis.\n"
        },
        {
            "cell_type": "code",
            "execution_count": null,
            "metadata": {},
            "outputs": [],
            "source": "tsd = TimeSeriesData(file_path)\ntsd = tsd[[\"Pel\", \"TAir\", \"TDryBulSource.y\"]]\n"
        },
        {
            "cell_type": "markdown",
            "metadata": {},
            "source": " Let's check the frequency of the data to see if our 1 s sampling rate\n was correctly applied:\n"
        },
        {
            "cell_type": "code",
            "execution_count": null,
            "metadata": {},
            "outputs": [],
            "source": "print(\"Simulation had index-frequency of %s with \"\n      \"standard deviation of %s\" % tsd.frequency)\n"
        },
        {
            "cell_type": "markdown",
            "metadata": {},
            "source": " Due to state events (see Modelica help for more info on that),\n our data is not equally sampled.\n To later match the simulation data with a fixed output interval (parameter output_interval),\n we have to process the data further.\n To do this, we have the function 'clean_and_space_equally' in ebcpy's TimeSeriesData.\n It only works on datetime indexes, hence we convert the data first:\n Note: Real measured data would already contain DateTimeIndex anyways.\n"
        },
        {
            "cell_type": "code",
            "execution_count": null,
            "metadata": {},
            "outputs": [],
            "source": "tsd.to_datetime_index()\n"
        },
        {
            "cell_type": "markdown",
            "metadata": {},
            "source": " Save a copy to check if our resampling induces data loss:\n"
        },
        {
            "cell_type": "code",
            "execution_count": null,
            "metadata": {},
            "outputs": [],
            "source": "tsd_reference = tsd.copy()\n"
        },
        {
            "cell_type": "markdown",
            "metadata": {},
            "source": " Apply the function\n"
        },
        {
            "cell_type": "code",
            "execution_count": null,
            "metadata": {},
            "outputs": [],
            "source": "tsd.clean_and_space_equally(desired_freq=\"10s\")\nprint(\"Simulation now has index-frequency of %s with \"\n      \"standard deviation of %s\" % tsd.frequency)\n"
        },
        {
            "cell_type": "markdown",
            "metadata": {},
            "source": " Let's check if the sampling changed our measured data and\n plot all relevant variable to analyze our system:\n"
        },
        {
            "cell_type": "code",
            "execution_count": null,
            "metadata": {},
            "outputs": [],
            "source": "fig, ax = plt.subplots(3, 1, sharex=True)\nax[0].plot(tsd_reference['TDryBulSource.y'] - 273.15, color=\"blue\", label=\"Reference\")\nax[0].plot(tsd['TDryBulSource.y'] - 273.15, color=\"red\", label=\"Resampled\")\nax[0].set_ylabel(\"$T_\\mathrm{Outdoor,Air}$ in °C\")\nax[1].plot(tsd_reference['Pel'] / 1000, color=\"blue\", label=\"Reference\")\nax[1].plot(tsd['Pel'] / 1000, color=\"red\", label=\"Resampled\")\nax[1].set_ylabel(\"$P_\\mathrm{el}$ in kW\")\nax[2].plot(tsd_reference['TAir'] - 273.15, color=\"blue\", label=\"Reference\")\nax[2].plot(tsd['TAir'] - 273.15, color=\"red\", label=\"Resampled\")\nax[2].set_ylabel(\"$T_\\mathrm{Air}$ in °C\")\nax[2].set_xlabel(\"Time in s\")\nplt.legend()\nif with_plot:\n    plt.show()\n"
        },
        {
            "cell_type": "markdown",
            "metadata": {},
            "source": " ### What and why do we see this?\n Looking at the first plot, we see a very frequent ambient air temperature\n sinus-wave switching between -10 and 10 °C every other minute. That's obviously\n none-sense, but better visualises the influence of the outdoor air temperature\n on the room temperature (third plot).\n The second plot shows how the heat pump is turned on four times,\n resulting in an increase in room temperature. As soon as the hysteresis limit\n of 22 °C room temperature is reached, the heat pump is turned of again.\n Only at initialization this limit exceeds, as the minimal run time of the\n heat pump is enabled as a safety control.\n ### What does this mean for our calibration?\n This means we've understood the basic physics behind our system.\n In this example, we've changed the following four parameters:\n - Volume of room (vol.V = 56 m³)\n - Thermal conductance to the ambient / wall insulation (theCon.G = 356 W/K)\n - Heat capacity of walls in the room (heaCap.C = 90000 J/K)\n - Exponent of radiator heat transfer (rad.n = 1.7)\n If any meaning of said parameters is unclear, look up the models used in\n this example. As a take-away note: We focus on the building and heat transfer physics,\n less on the heat pump or HVAC components.\n"
        },
        {
            "cell_type": "markdown",
            "metadata": {},
            "source": " ## Data saving\n In order to use this data in the other examples for the calibration, we have to save it.\n"
        },
        {
            "cell_type": "code",
            "execution_count": null,
            "metadata": {},
            "outputs": [],
            "source": "tsd_inputs = tsd[[\"TDryBulSource.y\"]]\ntsd_measurements = tsd[[\"Pel\", \"TAir\"]]\ntsd_inputs.save(examples_dir.joinpath(\"data\", \"measured_input_data.hdf\"), key=\"example\")\ntsd_measurements.save(examples_dir.joinpath(\"data\", \"measured_target_data.hdf\"), key=\"example\")\nprint(\"Saved data under\", examples_dir.joinpath(\"data\"))\n"
        }
    ],
    "metadata": {
        "kernelspec": {
            "display_name": "Python 3",
            "language": "python",
            "name": "python3"
        },
        "language_info": {
            "codemirror_mode": {
                "name": "ipython",
                "version": 3
            },
            "file_extension": ".py",
            "mimetype": "text/x-python",
            "name": "python",
            "nbconvert_exporter": "python",
            "pygments_lexer": "ipython3",
            "version": "3.6.4"
        }
    },
    "nbformat": 4,
    "nbformat_minor": 2
}
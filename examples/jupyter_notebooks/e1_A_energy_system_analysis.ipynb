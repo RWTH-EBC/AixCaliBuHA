{
    "cells": [
        {
            "cell_type": "markdown",
            "metadata": {},
            "source": "# Example 1-A Energy system analysis\nGoals of this part of the examples:\n1. Learn how to analyze the model of your energy system\n2. Improve your `SimulationAPI` knowledge\n3. Improve your skill-set on `TimeSeriesData`\n4. Generate some measured data to later use in a calibration\n"
        },
        {
            "cell_type": "markdown",
            "metadata": {},
            "source": "Start by importing all relevant packages\n"
        },
        {
            "cell_type": "code",
            "execution_count": null,
            "metadata": {},
            "outputs": [],
            "source": "from pathlib import Path\nimport matplotlib.pyplot as plt\n"
        },
        {
            "cell_type": "markdown",
            "metadata": {},
            "source": "Imports from ebcpy\n"
        },
        {
            "cell_type": "code",
            "execution_count": null,
            "metadata": {},
            "outputs": [],
            "source": "from ebcpy import DymolaAPI, TimeSeriesData\n"
        },
        {
            "cell_type": "markdown",
            "metadata": {},
            "source": "Please define the missing TODOs in the section below according to the docstrings.\n"
        },
        {
            "cell_type": "code",
            "execution_count": null,
            "metadata": {},
            "outputs": [],
            "source": "\"\"\"\nArguments of this example:\n\n:param [Path, str] examples_dir:\n    Path to the examples folder of AixCaliBuHA\n:param str aixlib_mo:\n    Path to the package.mo of the AixLib.\n    This example was tested for AixLib version 1.0.0.\n:param str cd:\n    Path in which to store the output.\n    Default is the examples\\results folder\n:param bool with_plot:\n    Show the plot at the end of the script. Default is True.\n\"\"\"\nexamples_dir = \"TODO: Add a valid input according to the docstring above\"\naixlib_mo = \"TODO: Add a valid input according to the docstring above\"\ncd = None\nwith_plot = True\n"
        },
        {
            "cell_type": "markdown",
            "metadata": {},
            "source": "General settings\n"
        },
        {
            "cell_type": "code",
            "execution_count": null,
            "metadata": {},
            "outputs": [],
            "source": "if cd is None:\n    cd = Path(examples_dir).joinpath(\"results\")\nelse:\n    cd = Path(cd)\nexamples_dir = Path(examples_dir)\naixcalibuha_mo = examples_dir.joinpath(\"model\", \"AixCaliBuHAExamples.mo\")\n"
        },
        {
            "cell_type": "markdown",
            "metadata": {},
            "source": "## System analysis\nThe best way to analyze the model which we later want to calibrate\nis to either pause here (set a debug point) or open the models in a GUI (OpenModelica, Dymola, o.s.).\nThe model looks like this (only works in markdown and jupyter versions): ![img.png](../data/img_A.png)\nClick through the system and subsystem to understand what happens in the model.\nAs you may have guessed, the analysis of an energy system can be quite complex\nand is thus hard to automize. Before using AixCaliBuHA, you should understand\nwhat happens in your system. If you have questions regarding modeling assumptions,\nask e.g. the model developers of the library you are using,\nin this case the AixLib.\n\nStart by setting up the Dymola-API. For more info, see the examples in ebcpy.\n"
        },
        {
            "cell_type": "code",
            "execution_count": null,
            "metadata": {},
            "outputs": [],
            "source": "dym_api = DymolaAPI(\n    model_name=\"AixCaliBuHAExamples.HeatPumpSystemCalibration\",\n    cd=cd,\n    packages=[\n        aixlib_mo,\n        aixcalibuha_mo\n    ],\n    show_window=True,\n    equidistant_output=False\n)\nprint(\"Pausing for analysis. Set the break point here if you like!\")\n"
        },
        {
            "cell_type": "markdown",
            "metadata": {},
            "source": "## Data generation\nWe want to exemplify the process of getting experimental data using\nthe model we later want to calibrate.\nThis is a good example for two reasons:\n1. You really know the optimal parameters\n2. We don't have to deal with measurement noise etc.\n\nFor this example, we simulate 1 h with a 1 s sampling rate.\nFor further simulation help, check out the ebcpy examples.\n"
        },
        {
            "cell_type": "code",
            "execution_count": null,
            "metadata": {},
            "outputs": [],
            "source": "dym_api.set_sim_setup({\n    \"stop_time\": 3600,\n    \"output_interval\": 10\n})\nfile_path = dym_api.simulate(\n)\n"
        },
        {
            "cell_type": "markdown",
            "metadata": {},
            "source": "## Data analysis\nNow let's analyze the data we've generated.\nOpen the file first and extract variables of interest.\nAs the model concerns a heat pump, we are most interested in\nvariables relevant for heat pumps. This could be the\nelectrical power consumption (Pel) and room comfort (TAir)\nsupplied by the heat pump.\nWhen looking at the model, we have one input:\nTDryBulSource.y, which represents the outdoor air temperature.\nThis input is important for heat pumps, as efficiency mainly depends\non source temperatures, and the model is of an air source heat pump.\nWe thus also extract this input for our data analysis.\n"
        },
        {
            "cell_type": "code",
            "execution_count": null,
            "metadata": {},
            "outputs": [],
            "source": "tsd = TimeSeriesData(file_path)\ntsd = tsd[[\"Pel\", \"TAir\", \"TDryBulSource.y\"]]\n"
        },
        {
            "cell_type": "markdown",
            "metadata": {},
            "source": "Let's check the frequency of the data to see if our 1 s sampling rate\nwas correctly applied:\n"
        },
        {
            "cell_type": "code",
            "execution_count": null,
            "metadata": {},
            "outputs": [],
            "source": "print(\"Simulation had index-frequency of %s with \"\n      \"standard deviation of %s\" % tsd.frequency)\n"
        },
        {
            "cell_type": "markdown",
            "metadata": {},
            "source": "Due to state events (see Modelica help for more info on that),\nour data is not equally sampled.\nTo later match the simulation data with a fixed output interval (parameter output_interval),\nwe have to process the data further.\nTo do this, we have the function 'clean_and_space_equally' in ebcpy's TimeSeriesData.\nIt only works on datetime indexes, hence we convert the data first:\nNote: Real measured data would already contain DateTimeIndex anyways.\n"
        },
        {
            "cell_type": "code",
            "execution_count": null,
            "metadata": {},
            "outputs": [],
            "source": "tsd.to_datetime_index()\n"
        },
        {
            "cell_type": "markdown",
            "metadata": {},
            "source": "Save a copy to check if our resampling induces data loss:\n"
        },
        {
            "cell_type": "code",
            "execution_count": null,
            "metadata": {},
            "outputs": [],
            "source": "tsd_reference = tsd.copy()\n"
        },
        {
            "cell_type": "markdown",
            "metadata": {},
            "source": "Apply the function\n"
        },
        {
            "cell_type": "code",
            "execution_count": null,
            "metadata": {},
            "outputs": [],
            "source": "tsd.clean_and_space_equally(desired_freq=\"10s\")\nprint(\"Simulation now has index-frequency of %s with \"\n      \"standard deviation of %s\" % tsd.frequency)\n"
        },
        {
            "cell_type": "markdown",
            "metadata": {},
            "source": "Let's check if the sampling changed our measured data and\nplot all relevant variable to analyze our system:\n"
        },
        {
            "cell_type": "code",
            "execution_count": null,
            "metadata": {},
            "outputs": [],
            "source": "fig, ax = plt.subplots(3, 1, sharex=True)\nax[0].plot(tsd_reference['TDryBulSource.y'] - 273.15, color=\"blue\", label=\"Reference\")\nax[0].plot(tsd['TDryBulSource.y'] - 273.15, color=\"red\", label=\"Resampled\")\nax[0].set_ylabel(\"$T_\\mathrm{Outdoor,Air}$ in °C\")\nax[1].plot(tsd_reference['Pel'] / 1000, color=\"blue\", label=\"Reference\")\nax[1].plot(tsd['Pel'] / 1000, color=\"red\", label=\"Resampled\")\nax[1].set_ylabel(\"$P_\\mathrm{el}$ in kW\")\nax[2].plot(tsd_reference['TAir'] - 273.15, color=\"blue\", label=\"Reference\")\nax[2].plot(tsd['TAir'] - 273.15, color=\"red\", label=\"Resampled\")\nax[2].set_ylabel(\"$T_\\mathrm{Air}$ in °C\")\nax[2].set_xlabel(\"Time in s\")\nplt.legend()\nif with_plot:\n    plt.show()\n"
        },
        {
            "cell_type": "markdown",
            "metadata": {},
            "source": "### What and why do we see this?\nLooking at the first plot, we see a very frequent ambient air temperature\nsinus-wave switching between -10 and 10 °C every other minute. That's obviously\nnone-sense, but better visualises the influence of the outdoor air temperature\non the room temperature (third plot).\nThe second plot shows how the heat pump is turned on four times,\nresulting in an increase in room temperature. As soon as the hysteresis limit\nof 22 °C room temperature is reached, the heat pump is turned of again.\nOnly at initialization this limit exceeds, as the minimal run time of the\nheat pump is enabled as a safety control.\n### What does this mean for our calibration?\nThis means we've understood the basic physics behind our system.\nIn this example, we've changed the following four parameters:\n- Volume of room (vol.V = 56 m³)\n- Thermal conductance to the ambient / wall insulation (theCon.G = 356 W/K)\n- Heat capacity of walls in the room (heaCap.C = 90000 J/K)\n- Exponent of radiator heat transfer (rad.n = 1.7)\nIf any meaning of said parameters is unclear, look up the models used in\nthis example. As a take-away note: We focus on the building and heat transfer physics,\nless on the heat pump or HVAC components.\n"
        },
        {
            "cell_type": "markdown",
            "metadata": {},
            "source": "## Data saving\nIn order to use this data in the other examples for the calibration, we have to save it.\n"
        },
        {
            "cell_type": "code",
            "execution_count": null,
            "metadata": {},
            "outputs": [],
            "source": "tsd_inputs = tsd[[\"TDryBulSource.y\"]]\ntsd_measurements = tsd[[\"Pel\", \"TAir\"]]\ntsd_inputs.save(examples_dir.joinpath(\"data\", \"measured_input_data.hdf\"), key=\"example\")\ntsd_measurements.save(examples_dir.joinpath(\"data\", \"measured_target_data.hdf\"), key=\"example\")\nprint(\"Saved data under\", examples_dir.joinpath(\"data\"))\n"
        }
    ],
    "metadata": {
        "kernelspec": {
            "display_name": "Python 3",
            "language": "python",
            "name": "python3"
        },
        "language_info": {
            "codemirror_mode": {
                "name": "ipython",
                "version": 3
            },
            "file_extension": ".py",
            "mimetype": "text/x-python",
            "name": "python",
            "nbconvert_exporter": "python",
            "pygments_lexer": "ipython3",
            "version": "3.6.4"
        }
    },
    "nbformat": 4,
    "nbformat_minor": 2
}
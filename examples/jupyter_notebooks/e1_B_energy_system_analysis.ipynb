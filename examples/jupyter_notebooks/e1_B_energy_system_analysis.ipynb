{
    "cells": [
        {
            "cell_type": "markdown",
            "metadata": {},
            "source": "# Example 1-B Energy system analysis\nGoals of this part of the examples:\n1. Learn how to analyze the model of your energy system\n2. Improve your `SimulationAPI` knowledge\n3. Improve your skill-set on `TimeSeriesData`\n4. Generate some measured data to later use in a calibration\n\nStart by importing all relevant packages\n"
        },
        {
            "cell_type": "code",
            "execution_count": null,
            "metadata": {},
            "outputs": [],
            "source": "from pathlib import Path\nimport matplotlib.pyplot as plt\n"
        },
        {
            "cell_type": "markdown",
            "metadata": {},
            "source": "Please define the missing TODOs in the section below according to the docstrings.\n"
        },
        {
            "cell_type": "code",
            "execution_count": null,
            "metadata": {},
            "outputs": [],
            "source": "\"\"\"\nArguments of this example:\n\n:param [Path, str] examples_dir:\n    Path to the examples folder of AixCaliBuHA\n:param bool with_plot:\n    Show the plot at the end of the script. Default is True.\n\"\"\"\nexamples_dir = \"TODO: Add a valid input according to the docstring above\"\nwith_plot = True\n"
        },
        {
            "cell_type": "markdown",
            "metadata": {},
            "source": "## System analysis\nThe best way to analyze the model which we later want to calibrate\nis to open the models in a GUI (OpenModelica, fmpy, Dymola, o.s.).\nThe model looks like this (only works in markdown and jupyter versions): ![img.png](../data/img_A.png)\nClick through the system and subsystem to understand what happens in the model.\nAs you may have guessed, the analysis of an energy system can be quite complex\nand is thus hard to automize. Before using AixCaliBuHA, you should understand\nwhat happens in your system. If you have questions regarding modeling assumptions,\nask e.g. the model developers of the library you are using,\nin this case the Modelica Standard Library.\n\nStart by setting up the FMU-API. For more info, see the examples in ebcpy.\nAs we will use the API in each example, we've created a util function\nunder examples\\__init__.py\n"
        },
        {
            "cell_type": "code",
            "execution_count": null,
            "metadata": {},
            "outputs": [],
            "source": "from examples import setup_fmu\nfmu_api = setup_fmu(example=\"B\", examples_dir=examples_dir)\n"
        },
        {
            "cell_type": "markdown",
            "metadata": {},
            "source": "## Data generation\nWe want to exemplify the process of getting experimental data using\nthe model we later want to calibrate.\nThis is a good example for two reasons:\n1. You really know the optimal parameters\n2. We don't have to deal with measurement noise etc.\n\nFor this example, we simulate 10 s with a 10 ms sampling rate.\nFor further simulation help, check out the ebcpy examples.\n"
        },
        {
            "cell_type": "code",
            "execution_count": null,
            "metadata": {},
            "outputs": [],
            "source": "fmu_api.set_sim_setup({\n    \"stop_time\": 10,\n    \"output_interval\": 0.01\n})\n"
        },
        {
            "cell_type": "markdown",
            "metadata": {},
            "source": "Let's assume the real values to be:\nspeedRamp.duration = 0.432 and valveRamp.duration = 2.5423\n"
        },
        {
            "cell_type": "code",
            "execution_count": null,
            "metadata": {},
            "outputs": [],
            "source": "parameters = {\"speedRamp.duration\": 0.432, \"valveRamp.duration\": 2.5423}\n"
        },
        {
            "cell_type": "markdown",
            "metadata": {},
            "source": "Also set the outputs we may be interested in. These choices are not\nnecessarily the most important quantities in the given model.\nBut as we focus on dynamic calibration, temperature trajectories\nare a good example.\n"
        },
        {
            "cell_type": "code",
            "execution_count": null,
            "metadata": {},
            "outputs": [],
            "source": "fmu_api.result_names = [\"heatCapacitor.T\", \"pipe.T\"]\n"
        },
        {
            "cell_type": "markdown",
            "metadata": {},
            "source": "Perform the simulation\n"
        },
        {
            "cell_type": "code",
            "execution_count": null,
            "metadata": {},
            "outputs": [],
            "source": "tsd = fmu_api.simulate(parameters=parameters)\n"
        },
        {
            "cell_type": "markdown",
            "metadata": {},
            "source": "## Data analysis\nCheck the frequency of the data:\n"
        },
        {
            "cell_type": "code",
            "execution_count": null,
            "metadata": {},
            "outputs": [],
            "source": "print(\"Simulation had index-frequency of %s with \"\n      \"standard deviation of %s\" % tsd.frequency)\n"
        },
        {
            "cell_type": "markdown",
            "metadata": {},
            "source": "Let's look at the data we've created:\n"
        },
        {
            "cell_type": "code",
            "execution_count": null,
            "metadata": {},
            "outputs": [],
            "source": "fig, ax = plt.subplots(1, 1, sharex=True)\nax.plot(tsd['heatCapacitor.T'] - 273.15, label=\"Capacity\")\nax.plot(tsd['pipe.T'] - 273.15, label=\"Pipe\")\nax.set_ylabel(\"Temperature in °C\")\nax.set_xlabel(\"Time in s\")\nax.legend()\nif with_plot:\n    plt.show()\n"
        },
        {
            "cell_type": "markdown",
            "metadata": {},
            "source": "### What do we see?\nOnly looking at the plots, we see two temperature trajectories\nof the pipe and the capacity in the model. Both rise until 1 s\nand after 1 s converge against a static value.\n### Why do we see this?\nTo answer this, you have to understand the model.\nThe model heat ups the heat capacity with a constant heat flow\nof 10 W.\nThis capacity is connected to a pipe with a fixed resistance.\nA fluid is passing through this pipe with a cooler temperature than\nthe capacity. Hence, heat moves from the capacity to the pipe depending\nmostly on the mass flow rate of the fluid. The latter depends on two\nthings: The speed of the pump and the opening of the valve.\nWe influence both values via our tuner parameters we've defined above.\n### What does this mean for our calibration?\nBoth parameters influence the ramp input of the pump and the valve.\nA large duration for the ramps means less speed and opening and\nthus less flow rate leading to warmer pipe and capacity temperatures\nSmall values indicate the opposite.\n"
        },
        {
            "cell_type": "markdown",
            "metadata": {},
            "source": "## Data saving\nIn order to use this data in the other examples, we have to save it.\nAlso, as data is typically generated using datetime stamps and different naming,\nlet's change some names and time index to ensure a realistic scenario:\n"
        },
        {
            "cell_type": "code",
            "execution_count": null,
            "metadata": {},
            "outputs": [],
            "source": "tsd = tsd.rename(columns={\"pipe.T\": \"TPipe\", \"heatCapacitor.T\": \"TCapacity\"})\ntsd.to_datetime_index()\ntsd.save(Path(examples_dir).joinpath(\"data\", \"PumpAndValve.hdf\"), key=\"examples\")\nprint(\"Saved data under\", Path(examples_dir).joinpath(\"data\"))\n"
        }
    ],
    "metadata": {
        "kernelspec": {
            "display_name": "Python 3",
            "language": "python",
            "name": "python3"
        },
        "language_info": {
            "codemirror_mode": {
                "name": "ipython",
                "version": 3
            },
            "file_extension": ".py",
            "mimetype": "text/x-python",
            "name": "python",
            "nbconvert_exporter": "python",
            "pygments_lexer": "ipython3",
            "version": "3.6.4"
        }
    },
    "nbformat": 4,
    "nbformat_minor": 2
}
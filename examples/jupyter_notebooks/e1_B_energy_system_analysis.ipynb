{
    "cells": [
        {
            "cell_type": "markdown",
            "metadata": {},
            "source": " # Example 1-B Energy system analysis\n Goals of this part of the examples:\n 1. Learn how to analyze the model of your energy system\n 2. Improve your `SimulationAPI` knowledge\n 3. Improve your skill-set on `TimeSeriesData`\n 4. Generate some measured data to later use in a calibration\n\n Start by importing all relevant packages\n"
        },
        {
            "cell_type": "code",
            "execution_count": null,
            "metadata": {},
            "outputs": [],
            "source": "import pathlib\nimport matplotlib.pyplot as plt\n\n\n\"\"\"\nArguments of this example:\n\n:param str examples_dir:\n    Path to the examples folder of AixCaliBuHA\n:param bool with_plot:\n    Show the plot at the end of the script. Default is True.\n\"\"\"\nexamples_dir = \"TODO: Add a valid input according to the docstring above\"\nwith_plot = True\n"
        },
        {
            "cell_type": "markdown",
            "metadata": {},
            "source": " ## System analysis\n The best way to analyze the model which we later want to calibrate\n is to open the models in a GUI (OpenModelica, fmpy, Dymola, o.s.).\n The model looks like this (only works in markdown and jupyter versions): ![img.png](../data/img_A.png)\n Click through the system and subsystem to understand what happens in the model.\n As you may have guessed, the analysis of an energy system can be quite complex\n and is thus hard to automize. Before using AixCaliBuHA, you should understand\n what happens in your system. If you have questions regarding modeling assumptions,\n ask e.g. the model developers of the library you are using,\n in this case the Modelica Standard Library.\n\n Start by setting up the FMU-API. For more info, see the examples in ebcpy.\n As we will use the API in each example, we've created a util function\n under examples\\__init__.py\n"
        },
        {
            "cell_type": "code",
            "execution_count": null,
            "metadata": {},
            "outputs": [],
            "source": "from examples import setup_fmu\nfmu_api = setup_fmu(example=\"B\", examples_dir=examples_dir)\n"
        },
        {
            "cell_type": "markdown",
            "metadata": {},
            "source": " ## Data generation\n We want to exemplify the process of getting experimental data using\n the model we later want to calibrate.\n This is a good example for two reasons:\n 1. You really know the optimal parameters\n 2. We don't have to deal with measurement noise etc.\n\n For this example, we simulate 10 s with a 10 ms sampling rate.\n For further simulation help, check out the ebcpy examples.\n"
        },
        {
            "cell_type": "code",
            "execution_count": null,
            "metadata": {},
            "outputs": [],
            "source": "fmu_api.set_sim_setup({\n    \"stop_time\": 10,\n    \"output_interval\": 0.01\n})\n"
        },
        {
            "cell_type": "markdown",
            "metadata": {},
            "source": " Let's assume the real values to be:\n speedRamp.duration = 0.432 and valveRamp.duration = 2.5423\n"
        },
        {
            "cell_type": "code",
            "execution_count": null,
            "metadata": {},
            "outputs": [],
            "source": "parameters = {\"speedRamp.duration\": 0.432, \"valveRamp.duration\": 2.5423}\n"
        },
        {
            "cell_type": "markdown",
            "metadata": {},
            "source": " Also set the outputs we may be interested in. These choices are not\n necessarily the most important quantities in the given model.\n But as we focus on dynamic calibration, temperature trajectories\n are a good example.\n"
        },
        {
            "cell_type": "code",
            "execution_count": null,
            "metadata": {},
            "outputs": [],
            "source": "fmu_api.result_names = [\"heatCapacitor.T\", \"pipe.T\"]\n"
        },
        {
            "cell_type": "markdown",
            "metadata": {},
            "source": " Perform the simulation\n"
        },
        {
            "cell_type": "code",
            "execution_count": null,
            "metadata": {},
            "outputs": [],
            "source": "tsd = fmu_api.simulate(parameters=parameters)\n"
        },
        {
            "cell_type": "markdown",
            "metadata": {},
            "source": " ## Data analysis\n Check the frequency of the data:\n"
        },
        {
            "cell_type": "code",
            "execution_count": null,
            "metadata": {},
            "outputs": [],
            "source": "print(\"Simulation had index-frequency of %s with \"\n      \"standard deviation of %s\" % tsd.frequency)\n"
        },
        {
            "cell_type": "markdown",
            "metadata": {},
            "source": " Let's look at the data we've created:\n"
        },
        {
            "cell_type": "code",
            "execution_count": null,
            "metadata": {},
            "outputs": [],
            "source": "fig, ax = plt.subplots(1, 1, sharex=True)\nax.plot(tsd['heatCapacitor.T'] - 273.15, label=\"Capacity\")\nax.plot(tsd['pipe.T'] - 273.15, label=\"Pipe\")\nax.set_ylabel(\"Temperature in °C\")\nax.set_xlabel(\"Time in s\")\nax.legend()\nif with_plot:\n    plt.show()\n"
        },
        {
            "cell_type": "markdown",
            "metadata": {},
            "source": " ### What do we see?\n Only looking at the plots, we see two temperature trajectories\n of the pipe and the capacity in the model. Both rise until 1 s\n and after 1 s converge against a static value.\n ### Why do we see this?\n To answer this, you have to understand the model.\n The model heat ups the heat capacity with a constant heat flow\n of 10 W.\n This capacity is connected to a pipe with a fixed resistance.\n A fluid is passing through this pipe with a cooler temperature than\n the capacity. Hence, heat moves from the capacity to the pipe depending\n mostly on the mass flow rate of the fluid. The latter depends on two\n things: The speed of the pump and the opening of the valve.\n We influence both values via our tuner parameters we've defined above.\n ### What does this mean for our calibration?\n Both parameters influence the ramp input of the pump and the valve.\n A large duration for the ramps means less speed and opening and\n thus less flow rate leading to warmer pipe and capacity temperatures\n Small values indicate the opposite.\n"
        },
        {
            "cell_type": "markdown",
            "metadata": {},
            "source": " ## Data saving\n In order to use this data in the other examples, we have to save it.\n Also, as data is typically generated using datetime stamps and different naming,\n let's change some names and time index to ensure a realistic scenario:\n"
        },
        {
            "cell_type": "code",
            "execution_count": null,
            "metadata": {},
            "outputs": [],
            "source": "tsd = tsd.rename(columns={\"pipe.T\": \"TPipe\", \"heatCapacitor.T\": \"TCapacity\"})\ntsd.to_datetime_index()\ntsd.save(pathlib.Path(examples_dir).joinpath(\"data\", \"PumpAndValve.hdf\"), key=\"examples\")\nprint(\"Saved data under\", pathlib.Path(examples_dir).joinpath(\"data\"))\n"
        }
    ],
    "metadata": {
        "kernelspec": {
            "display_name": "Python 3",
            "language": "python",
            "name": "python3"
        },
        "language_info": {
            "codemirror_mode": {
                "name": "ipython",
                "version": 3
            },
            "file_extension": ".py",
            "mimetype": "text/x-python",
            "name": "python",
            "nbconvert_exporter": "python",
            "pygments_lexer": "ipython3",
            "version": "3.6.4"
        }
    },
    "nbformat": 4,
    "nbformat_minor": 2
}
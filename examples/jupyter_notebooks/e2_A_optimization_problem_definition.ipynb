{
    "cells": [
        {
            "cell_type": "markdown",
            "metadata": {},
            "source": " # Example 2-A Optimization problem definition\n"
        },
        {
            "cell_type": "markdown",
            "metadata": {},
            "source": " Goals of this part of the examples:\n 1. Learn how to formulate your calibration problem using our data_types\n 2. Get to know `TunerParas`\n 3. Get to know `Goals`\n 4. Get to know `CalibrationClass`\n 5. Learn how to merge multiple classes\n\n Start by importing all relevant packages\n"
        },
        {
            "cell_type": "code",
            "execution_count": null,
            "metadata": {},
            "outputs": [],
            "source": "import pathlib\n"
        },
        {
            "cell_type": "markdown",
            "metadata": {},
            "source": " Imports from ebcpy\n"
        },
        {
            "cell_type": "code",
            "execution_count": null,
            "metadata": {},
            "outputs": [],
            "source": "from ebcpy import TimeSeriesData\n"
        },
        {
            "cell_type": "markdown",
            "metadata": {},
            "source": " Imports from aixcalibuha\n"
        },
        {
            "cell_type": "code",
            "execution_count": null,
            "metadata": {},
            "outputs": [],
            "source": "from aixcalibuha import TunerParas, Goals, \\\n    CalibrationClass\nfrom aixcalibuha.data_types import merge_calibration_classes\n"
        },
        {
            "cell_type": "markdown",
            "metadata": {},
            "source": " Please define the missing TODOs in the section below according to the docstrings.\n"
        },
        {
            "cell_type": "code",
            "execution_count": null,
            "metadata": {},
            "outputs": [],
            "source": "\"\"\"\nArguments of this example:\n\n:param str examples_dir:\n    Path to the examples folder of AixCaliBuHA\n:param str statistical_measure:\n    Measure to calculate the scalar of the objective,\n    One of the supported methods in\n    ebcpy.utils.statistics_analyzer.StatisticsAnalyzer\n    e.g. RMSE, MAE, NRMSE\n:param bool multiple_classes:\n    If False, all CalibrationClasses will have the\n    same name\n\"\"\"\nexamples_dir = \"TODO: Add a valid input according to the docstring above\"\nstatistical_measure = \"NRMSE\"\nmultiple_classes = True\n"
        },
        {
            "cell_type": "markdown",
            "metadata": {},
            "source": " ## Tuner Parameters\n Tuner parameters are the optimization variables we will be\n changing to match the simulated onto the measured output.\n\n As described in the first example (e1_A_energy_system_analysis),\n we've changed four parameters in the model. To show the usefulness\n of sensitivity analysis prior to calibration, we will add a fifth without\n any influence, the heating curve declination of the heat pump.\n To define tuner parameters, you have to specify\n - the name of the parameter\n - an initial guess\n - boundaries as a (min, max) tuple.\n Note that the initial guess is not always used by optimization routines.\n We've chosen to make it a requirement to prevent blindly accepting\n calibration results. If the result is very far away from your initial guess\n and you though you understand the model, maybe the parameter is just not\n sensitive or influenced by another parameter.\n How to load the data is up to you. To make the structure clear,\n we use a 3 element tuple in this example:\n"
        },
        {
            "cell_type": "code",
            "execution_count": null,
            "metadata": {},
            "outputs": [],
            "source": "data = [\n    # (name, initial_value, boundaries)\n    (\"heatPumpSystem.declination\", 2, (1, 5)),\n    (\"vol.V\", 40, (1, 100)),\n    (\"heaCap.C\", 50000, (1000, 100000)),\n    (\"rad.n\", 1.24, (1, 2)),\n    (\"theCon.G\", 250, (1, 1000))\n]\ntuner_paras = TunerParas(\n    names=[entry[0] for entry in data],\n    initial_values=[entry[1] for entry in data],\n    bounds=[entry[2] for entry in data]\n)\nprint(tuner_paras)\nprint(\"Names of parameters\", tuner_paras.get_names())\nprint(\"Initial values\", tuner_paras.get_initial_values())\n"
        },
        {
            "cell_type": "markdown",
            "metadata": {},
            "source": " Scaling (will be done internally)\n"
        },
        {
            "cell_type": "code",
            "execution_count": null,
            "metadata": {},
            "outputs": [],
            "source": "print(\"Scaled initial values:\\n\", tuner_paras.scale(tuner_paras.get_initial_values()))\n"
        },
        {
            "cell_type": "markdown",
            "metadata": {},
            "source": " ## Goals\n The evaluation of your goals (or mathematically speaking 'objective function')\n depends on the difference of measured to simulated data.\n Thus, you need to specify both measured and simulated data.\n\n Start by loading the measured data generated in 1_A_energy_system_analysis.py:\n"
        },
        {
            "cell_type": "code",
            "execution_count": null,
            "metadata": {},
            "outputs": [],
            "source": "data_dir = pathlib.Path(examples_dir).joinpath(\"data\")\nmeas_target_data = TimeSeriesData(data_dir.joinpath(\"measured_target_data.hdf\"), key=\"example\")\n"
        },
        {
            "cell_type": "markdown",
            "metadata": {},
            "source": " Map the measured keys to the names inside your simulation\n"
        },
        {
            "cell_type": "code",
            "execution_count": null,
            "metadata": {},
            "outputs": [],
            "source": "variable_names = {\n    # Name of goal: Name of measured variable, Name of simulated variable\n    # Either use list\n    \"Electricity\": [\"Pel\", \"Pel\"],\n    # Or dict\n    \"Room temperature\": {\"meas\": \"TAir\", \"sim\": \"vol.T\"}\n}\n"
        },
        {
            "cell_type": "markdown",
            "metadata": {},
            "source": " To match the measured data to simulated data,\n the index has to match with the simulation output\n Thus, convert it:\n"
        },
        {
            "cell_type": "code",
            "execution_count": null,
            "metadata": {},
            "outputs": [],
            "source": "meas_target_data.to_float_index()\n"
        },
        {
            "cell_type": "markdown",
            "metadata": {},
            "source": " Lastly, setup the goals object. Note that the statistical_measure\n is parameter of the python version of this example. It's a metric to\n compare two set's of time series data. Which one to choose is up to\n your expert knowledge. If you have no clue, raise an issue or read\n basic literature on calibration.\n"
        },
        {
            "cell_type": "code",
            "execution_count": null,
            "metadata": {},
            "outputs": [],
            "source": "goals = Goals(\n    meas_target_data=meas_target_data,\n    variable_names=variable_names,\n    statistical_measure=statistical_measure,\n    weightings=[0.7, 0.3]\n)\n"
        },
        {
            "cell_type": "markdown",
            "metadata": {},
            "source": " Let's check if our evaluation is possible by creating some\n dummy `sim_target_data` with the same index:\n"
        },
        {
            "cell_type": "code",
            "execution_count": null,
            "metadata": {},
            "outputs": [],
            "source": "sim_target_data = TimeSeriesData({\"vol.T\": 293.15, \"Pel\": 0},\n                                 index=meas_target_data.index)\nprint(\"Goals data before setting simulation data:\\n\", goals.get_goals_data())\ngoals.set_sim_target_data(sim_target_data)\nprint(\"Goals data after setting simulation data:\\n\", goals.get_goals_data())\nprint(statistical_measure, \"of goals: \", goals.eval_difference())\nprint(\"Verbose information on calculation\", goals.eval_difference(verbose=True))\n"
        },
        {
            "cell_type": "markdown",
            "metadata": {},
            "source": " Lastly we advice to play around with the index of the sim_target_data to\n understand the error messages of this framework a little bit better.\n Example:\n"
        },
        {
            "cell_type": "code",
            "execution_count": null,
            "metadata": {},
            "outputs": [],
            "source": "new_index = [0.0, 600.0, 1200.0, 1800.0, 2400.0, 3000.0, 3600.0]\nsim_target_data = TimeSeriesData({\"vol.T\": 293.15, \"Pel\": 0},\n                                 index=new_index)\ntry:\n    goals.set_sim_target_data(sim_target_data)\nexcept Exception as err:\n    print(\"I knew this error was going to happen. Do you understand \"\n          \"why this happens based on the following message?\")\n    print(err)\nnew_index = meas_target_data.index.values.copy()\nnew_index[-10] += 0.05  # Change some value\nsim_target_data = TimeSeriesData({\"vol.T\": 293.15, \"Pel\": 0},\n                                 index=new_index)\ntry:\n    goals.set_sim_target_data(sim_target_data)\nexcept Exception as err:\n    print(\"I knew this error was going to happen. Do you understand \"\n          \"why this happens based on the following message?\")\n    print(err)\n"
        },
        {
            "cell_type": "markdown",
            "metadata": {},
            "source": " ## Calibration Classes\n We now are going to wrap everything up into a single object called\n `CalibrationClass`.\n Each class has a `name`, a `start_time`, `stop_time` and\n `goals`, `tuner_paras` (tuner parameters) and `inputs`.\n The latter three can be set for all\n classes if a distinction is not required.\n ### Why do we use a `CalibrationClass`?\n Because this class contains all information necessary\n to perform both sensitivity analysis and calibration automatically.\n ### Can there be multiple classes?\n Yes! Because we expect different tuner parameters\n to influence the outputs based on the state of the system,\n e.g. 'On' and 'Off' more or less. To reduce the complexity of the\n optimization problem, separating tuner parameters into time intervals\n can be handy. For example heat losses to the ambient may be most\n sensitive if the device is just turned off, while efficiency is more\n sensitive during runtime.\n"
        },
        {
            "cell_type": "code",
            "execution_count": null,
            "metadata": {},
            "outputs": [],
            "source": "calibration_classes = [\n    CalibrationClass(\n        name=\"On\",\n        start_time=0,\n        stop_time=290\n    ),\n    CalibrationClass(\n        name=\"Off\" if multiple_classes else \"On\",\n        start_time=290,\n        stop_time=1280\n    ),\n    CalibrationClass(\n        name=\"On\",\n        start_time=1280,\n        stop_time=1570\n    ),\n    CalibrationClass(\n        name=\"Off\" if multiple_classes else \"On\",\n        start_time=1570,\n        stop_time=2080\n    ),\n    CalibrationClass(\n        name=\"On\",\n        start_time=2080,\n        stop_time=2360\n    )\n]\n"
        },
        {
            "cell_type": "markdown",
            "metadata": {},
            "source": " Set the latter three for all classes.\n First load the inputs of the calibration:\n"
        },
        {
            "cell_type": "code",
            "execution_count": null,
            "metadata": {},
            "outputs": [],
            "source": "meas_inputs_data = TimeSeriesData(data_dir.joinpath(\"measured_input_data.hdf\"), key=\"example\")\n"
        },
        {
            "cell_type": "markdown",
            "metadata": {},
            "source": " Rename according to simulation input:\n"
        },
        {
            "cell_type": "code",
            "execution_count": null,
            "metadata": {},
            "outputs": [],
            "source": "meas_inputs_data = meas_inputs_data.rename(columns={\"TDryBulSource.y\": \"TDryBul\"})\nfor cal_class in calibration_classes:\n    cal_class.goals = goals\n    cal_class.tuner_paras = tuner_paras\n    cal_class.inputs = meas_inputs_data\n"
        },
        {
            "cell_type": "markdown",
            "metadata": {},
            "source": " ## Merge multiple classes\n If wanted, we can merge multiple classes and optimize them as one.\n Example:\n"
        },
        {
            "cell_type": "code",
            "execution_count": null,
            "metadata": {},
            "outputs": [],
            "source": "print([c.name for c in calibration_classes])\ncalibration_classes_merged = merge_calibration_classes(calibration_classes)\nprint([c.name for c in calibration_classes_merged])\n"
        },
        {
            "cell_type": "markdown",
            "metadata": {},
            "source": " Don't worry, the relevant_time_interval object keeps track\n of which time intervals are relevant for the objective calculation\n"
        },
        {
            "cell_type": "code",
            "execution_count": null,
            "metadata": {},
            "outputs": [],
            "source": "print(\"Relevant time interval for class\",\n      calibration_classes_merged[0].name,\n      calibration_classes_merged[0].relevant_intervals)\n"
        },
        {
            "cell_type": "markdown",
            "metadata": {},
            "source": " Let's also create an object to later validate our calibration:\n"
        },
        {
            "cell_type": "code",
            "execution_count": null,
            "metadata": {},
            "outputs": [],
            "source": "validation_class = CalibrationClass(\n    name=\"Validation\",\n    start_time=2360,\n    stop_time=3600,\n    goals=goals,\n    tuner_paras=tuner_paras,\n    inputs=meas_inputs_data\n)\n"
        }
    ],
    "metadata": {
        "kernelspec": {
            "display_name": "Python 3",
            "language": "python",
            "name": "python3"
        },
        "language_info": {
            "codemirror_mode": {
                "name": "ipython",
                "version": 3
            },
            "file_extension": ".py",
            "mimetype": "text/x-python",
            "name": "python",
            "nbconvert_exporter": "python",
            "pygments_lexer": "ipython3",
            "version": "3.6.4"
        }
    },
    "nbformat": 4,
    "nbformat_minor": 2
}
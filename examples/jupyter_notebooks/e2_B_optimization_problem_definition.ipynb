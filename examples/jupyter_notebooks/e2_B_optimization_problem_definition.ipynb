{
    "cells": [
        {
            "cell_type": "markdown",
            "metadata": {},
            "source": "# Example 2-B Optimization problem definition\n"
        },
        {
            "cell_type": "markdown",
            "metadata": {},
            "source": "Goals of this part of the examples:\n1. Learn how to formulate your calibration problem using our data_types\n2. Get to know `TunerParas`\n3. Get to know `Goals`\n4. Get to know `CalibrationClass`\n5. Learn how to merge multiple classes\n\nStart by importing all relevant packages\n"
        },
        {
            "cell_type": "code",
            "execution_count": null,
            "metadata": {},
            "outputs": [],
            "source": "import pathlib\n"
        },
        {
            "cell_type": "markdown",
            "metadata": {},
            "source": "Imports from ebcpy\n"
        },
        {
            "cell_type": "code",
            "execution_count": null,
            "metadata": {},
            "outputs": [],
            "source": "from ebcpy import TimeSeriesData\n"
        },
        {
            "cell_type": "markdown",
            "metadata": {},
            "source": "Imports from AixCaliBUhA\n"
        },
        {
            "cell_type": "code",
            "execution_count": null,
            "metadata": {},
            "outputs": [],
            "source": "from aixcalibuha import TunerParas, Goals, \\\n    CalibrationClass\nfrom aixcalibuha.data_types import merge_calibration_classes\n"
        },
        {
            "cell_type": "markdown",
            "metadata": {},
            "source": "## Tuner Parameters\nTuner parameters are the optimization variables we will be\nchanging to match the simulated onto the measured output.\n\nAs described in the first example (e1_B_energy_system_analysis),\nwe've changed two parameters in the model.\nTo define tuner parameters, you have to specify\n- the name of the parameter\n- an initial guess\n- boundaries as a (min, max) tuple.\nNote that the initial guess is not always used by optimization routines.\nWe've chosen to make it a requirement to prevent blindly accepting\ncalibration results. If the result is very far away from your initial guess\nand you though you understand the model, maybe the parameter is just not\nsensitive or influenced by another parameter.\n"
        },
        {
            "cell_type": "code",
            "execution_count": null,
            "metadata": {},
            "outputs": [],
            "source": "tuner_paras = TunerParas(\n    names=[\"speedRamp.duration\", \"valveRamp.duration\"],\n    initial_values=[0.1, 0.1],\n    bounds=[(0.1, 10), (0.1, 10)]\n)\nprint(tuner_paras)\nprint(\"Names of parameters\", tuner_paras.get_names())\nprint(\"Initial values\", tuner_paras.get_initial_values())\n"
        },
        {
            "cell_type": "markdown",
            "metadata": {},
            "source": "Scaling (will be done internally)\n"
        },
        {
            "cell_type": "code",
            "execution_count": null,
            "metadata": {},
            "outputs": [],
            "source": "print(\"Scaled initial values:\\n\", tuner_paras.scale(tuner_paras.get_initial_values()))\n"
        },
        {
            "cell_type": "markdown",
            "metadata": {},
            "source": "## Goals\nThe evaluation of your goals (or mathematically speaking 'objective function')\ndepends on the difference of measured to simulated data.\nThus, you need to specify both measured and simulated data.\n\nStart by loading the measured data generated in 1_B_energy_system_analysis.py:\n\nAs the examples should work, and the cal_class example uses the other examples,\nwe will test it here:\n"
        },
        {
            "cell_type": "code",
            "execution_count": null,
            "metadata": {},
            "outputs": [],
            "source": "data_dir = pathlib.Path(examples_dir).joinpath(\"data\")\nmeas_target_data = TimeSeriesData(data_dir.joinpath(\"PumpAndValve.hdf\"),\n                                  key=\"examples\")\n"
        },
        {
            "cell_type": "markdown",
            "metadata": {},
            "source": "Setup three variables for different format of setup\n"
        },
        {
            "cell_type": "code",
            "execution_count": null,
            "metadata": {},
            "outputs": [],
            "source": "variable_names = {\n    # Name of goal: Name of measured variable, Name of simulated variable\n    # Either use list\n    \"TCap\": [\"TCapacity\", \"heatCapacitor.T\"],\n    # Or dict\n    \"TPipe\": {\"meas\": \"TPipe\", \"sim\": \"pipe.T\"}\n}\n"
        },
        {
            "cell_type": "markdown",
            "metadata": {},
            "source": "To match the measured data to simulated data,\nthe index has to match with the simulation output\nThus, convert it:\n"
        },
        {
            "cell_type": "code",
            "execution_count": null,
            "metadata": {},
            "outputs": [],
            "source": "meas_target_data.to_float_index()\n"
        },
        {
            "cell_type": "markdown",
            "metadata": {},
            "source": "Lastly, setup the goals object. Note that the statistical_measure\nis parameter of the python version of this example. It's a metric to\ncompare two set's of time series data. Which one to choose is up to\nyour expert knowledge. If you have no clue, raise an issue or read\nbasic literature on calibration.\n"
        },
        {
            "cell_type": "code",
            "execution_count": null,
            "metadata": {},
            "outputs": [],
            "source": "goals = Goals(\n    meas_target_data=meas_target_data,\n    variable_names=variable_names,\n    statistical_measure=statistical_measure,\n    weightings=[0.7, 0.3]\n)\n"
        },
        {
            "cell_type": "markdown",
            "metadata": {},
            "source": "Let's check if our evaluation is possible by creating some\ndummy sim_target_data with the same index:\n"
        },
        {
            "cell_type": "code",
            "execution_count": null,
            "metadata": {},
            "outputs": [],
            "source": "sim_target_data = TimeSeriesData({\"pipe.T\": 298.15, \"heatCapacitor.T\": 303.15},\n                                 index=meas_target_data.index)\n\nprint(\"Goals data before setting simulation data:\\n\", goals.get_goals_data())\ngoals.set_sim_target_data(sim_target_data)\nprint(\"Goals data after setting simulation data:\\n\", goals.get_goals_data())\nprint(statistical_measure, \"of goals: \", goals.eval_difference())\nprint(\"Verbose information on calculation\", goals.eval_difference(verbose=True))\n"
        },
        {
            "cell_type": "markdown",
            "metadata": {},
            "source": "Lastly we advice to play around with the index of the sim_target_data to\nunderstand the error messages of this framework a little bit better.\nExample:\n"
        },
        {
            "cell_type": "code",
            "execution_count": null,
            "metadata": {},
            "outputs": [],
            "source": "new_index = [0.0, 5.0, 10.0]\nsim_target_data = TimeSeriesData({\"pipe.T\": 298.15, \"heatCapacitor.T\": 303.15},\n                                 index=new_index)\ntry:\n    goals.set_sim_target_data(sim_target_data)\nexcept Exception as err:\n    print(\"I knew this error was going to happen. Do you understand \"\n          \"why this happens based on the following message?\")\n    print(err)\nnew_index = meas_target_data.index.values.copy()\nnew_index[-10] += 0.05  # Change some value\nsim_target_data = TimeSeriesData({\"pipe.T\": 298.15, \"heatCapacitor.T\": 303.15},\n                                 index=new_index)\ntry:\n    goals.set_sim_target_data(sim_target_data)\nexcept Exception as err:\n    print(\"I knew this error was going to happen. Do you understand \"\n          \"why this happens based on the following message?\")\n    print(err)\n"
        },
        {
            "cell_type": "markdown",
            "metadata": {},
            "source": "## Calibration Classes\nWe now are going to wrap everything up into a single object called\n`CalibrationClass`.\nEach class has a `name`, a `start_time`, `stop_time` and\n`goals`, `tuner_paras` (tuner parameters) and `inputs`.\nThe latter three can be set for all\nclasses if a distinction is not required.\n### Why do we use a `CalibrationClass`?\nBecause this class contains all information necessary\nto perform both sensitivity analysis and calibration automatically.\n### Can there be multiple classes?\nYes! Because we expect different tuner parameters\nto influence the outputs based on the state of the system,\ne.g. 'On' and 'Off' more or less. To reduce the complexity of the\noptimization problem, separating tuner parameters into time intervals\ncan be handy. For example heat losses to the ambient may be most\nsensitive if the device is just turned off, while efficiency is more\nsensitive during runtime.\nLet's also define some different tuner parameters for the last stationary class.\n"
        },
        {
            "cell_type": "code",
            "execution_count": null,
            "metadata": {},
            "outputs": [],
            "source": "different_tuner_paras = TunerParas(names=[\"speedRamp.duration\"],\n                                   initial_values=[0.1],\n                                   bounds=[(0.1, 10)])\n\ncalibration_classes = [\n    CalibrationClass(\n        name=\"heat up\" if multiple_classes else \"On\",\n        start_time=0, stop_time=1,\n        goals=goals, tuner_paras=tuner_paras\n    ),\n    CalibrationClass(\n        name=\"cool down\" if multiple_classes else \"On\",\n        start_time=1, stop_time=2,\n        goals=goals, tuner_paras=tuner_paras\n    ),\n    CalibrationClass(\n        name=\"stationary\" if multiple_classes else \"On\",\n        start_time=2, stop_time=10,\n        goals=goals, tuner_paras=different_tuner_paras\n    )\n]\n"
        },
        {
            "cell_type": "markdown",
            "metadata": {},
            "source": "## Merge multiple classes\nIf wanted, we can merge multiple classes and optimize them as one.\nExample:\n"
        },
        {
            "cell_type": "code",
            "execution_count": null,
            "metadata": {},
            "outputs": [],
            "source": "print([c.name for c in calibration_classes])\ncalibration_classes_merged = merge_calibration_classes(calibration_classes)\nprint([c.name for c in calibration_classes_merged])\n"
        },
        {
            "cell_type": "markdown",
            "metadata": {},
            "source": "Don't worry, the relevant_time_interval object keeps track\nof which time intervals are relevant for the objective calculation\n"
        },
        {
            "cell_type": "code",
            "execution_count": null,
            "metadata": {},
            "outputs": [],
            "source": "print(\"Relevant time interval for class\",\n      calibration_classes_merged[0].name,\n      calibration_classes_merged[0].relevant_intervals)\n"
        },
        {
            "cell_type": "markdown",
            "metadata": {},
            "source": "Let's also create an object to later validate our calibration:\n"
        },
        {
            "cell_type": "code",
            "execution_count": null,
            "metadata": {},
            "outputs": [],
            "source": "validation_class = CalibrationClass(\n    name=\"validation\",\n    stop_time=10,\n    start_time=0,\n    goals=goals,\n    tuner_paras=tuner_paras\n)\n"
        }
    ],
    "metadata": {
        "kernelspec": {
            "display_name": "Python 3",
            "language": "python",
            "name": "python3"
        },
        "language_info": {
            "codemirror_mode": {
                "name": "ipython",
                "version": 3
            },
            "file_extension": ".py",
            "mimetype": "text/x-python",
            "name": "python",
            "nbconvert_exporter": "python",
            "pygments_lexer": "ipython3",
            "version": "3.6.4"
        }
    },
    "nbformat": 4,
    "nbformat_minor": 2
}
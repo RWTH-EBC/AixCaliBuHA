{
    "cells": [
        {
            "cell_type": "markdown",
            "metadata": {},
            "source": "# Example 3 sensitivity analysis\n"
        },
        {
            "cell_type": "markdown",
            "metadata": {},
            "source": "Goals of this part of the examples:\n1. Learn how to execute a sensitivity analysis\n2. Learn how to automatically select sensitive tuner parameters\n\nImport a valid analyzer, e.g. `SobolAnalyzer`\n"
        },
        {
            "cell_type": "code",
            "execution_count": null,
            "metadata": {},
            "outputs": [],
            "source": "from aixcalibuha import SobolAnalyzer\n"
        },
        {
            "cell_type": "markdown",
            "metadata": {},
            "source": "Please define the missing TODOs in the section below according to the docstrings.\n"
        },
        {
            "cell_type": "code",
            "execution_count": null,
            "metadata": {},
            "outputs": [],
            "source": "\"\"\"\nExample process of a sensitivity analysis.\nFirst, the sensitivity problem is constructed, in this example\nthe `morris` method is chosen.\nAfterward, the sen_analyzer class is instantiated to run the\nsensitivity analysis in the next step.\nThe result of this analysis is then printed to the user.\nThe automatic_select function is presented as-well, using a threshold of 1\nand the default `mu_star` criterion.\n\n:param [pathlib.Path, str] examples_dir:\n    Path to the examples folder of AixCaliBuHA\n:param str example:\n    Which example to run, \"A\" or \"B\"\n:param int n_cpu:\n    Number of cores to use\n\n:return: A list of calibration classes\n:rtype: list\n\"\"\"\nexamples_dir = \"TODO: Add a valid input according to the docstring above\"\nexample: str  =  \"B\"\nn_cpu: int  =  1\n"
        },
        {
            "cell_type": "markdown",
            "metadata": {},
            "source": "## Setup\nSetup the class according to the documentation.\nYou just have to pass a valid simulation api and\nsome further settings for the analysis.\nLet's thus first load the necessary simulation api:\n"
        },
        {
            "cell_type": "code",
            "execution_count": null,
            "metadata": {},
            "outputs": [],
            "source": "from examples import setup_fmu, setup_calibration_classes\nsim_api = setup_fmu(examples_dir=examples_dir, example=example, n_cpu=n_cpu)\n\nsen_analyzer = SobolAnalyzer(\n        sim_api=sim_api,\n        num_samples=10,\n        cd=sim_api.cd\n    )\n"
        },
        {
            "cell_type": "markdown",
            "metadata": {},
            "source": "Now perform the analysis for the one of the given calibration classes.\n"
        },
        {
            "cell_type": "code",
            "execution_count": null,
            "metadata": {},
            "outputs": [],
            "source": "calibration_classes = setup_calibration_classes(\n    examples_dir=examples_dir, example=example\n)[0]\n\nresult, classes = sen_analyzer.run(calibration_classes=calibration_classes,\n                                   plot_result=True,\n                                   save_results=False)\nprint(\"Result of the sensitivity analysis\")\nprint(result)\n"
        },
        {
            "cell_type": "markdown",
            "metadata": {},
            "source": "For each given class, you should see the given tuner parameters\nand the sensitivity according to the selected method from the SALib.\nLet's remove some less sensitive parameters based on some threshold\nto remove complexity from our calibration problem:\n"
        },
        {
            "cell_type": "code",
            "execution_count": null,
            "metadata": {},
            "outputs": [],
            "source": "print(\"Selecting relevant tuner-parameters using a fixed threshold:\")\nsen_analyzer.select_by_threshold(calibration_classes=classes,\n                                 result=result[0],\n                                 threshold=0.01,\n                                 analysis_variable='S1')\nfor cal_class in classes:\n    print(f\"Class '{cal_class.name}' with parameters:\\n{cal_class.tuner_paras}\")\n"
        },
        {
            "cell_type": "markdown",
            "metadata": {},
            "source": "Return the classes and the sim_api to later perform an automated process in example 5\n"
        }
    ],
    "metadata": {
        "kernelspec": {
            "display_name": "Python 3",
            "language": "python",
            "name": "python3"
        },
        "language_info": {
            "codemirror_mode": {
                "name": "ipython",
                "version": 3
            },
            "file_extension": ".py",
            "mimetype": "text/x-python",
            "name": "python",
            "nbconvert_exporter": "python",
            "pygments_lexer": "ipython3",
            "version": "3.6.4"
        }
    },
    "nbformat": 4,
    "nbformat_minor": 2
}
{
    "cells": [
        {
            "cell_type": "markdown",
            "metadata": {},
            "source": "# Example 3 sensitivity analysis with dymola api\n"
        },
        {
            "cell_type": "markdown",
            "metadata": {},
            "source": "Goals of this part of the examples:\n1. Learn how to execute a sensitivity analysis with the dymola api\n\n"
        },
        {
            "cell_type": "code",
            "execution_count": null,
            "metadata": {},
            "outputs": [],
            "source": "import os\nfrom pathlib import Path\nfrom examples import setup_dym_api, setup_calibration_classes\n"
        },
        {
            "cell_type": "markdown",
            "metadata": {},
            "source": "Import a valid analyzer, e.g. `SobolAnalyzer`\n"
        },
        {
            "cell_type": "code",
            "execution_count": null,
            "metadata": {},
            "outputs": [],
            "source": "from aixcalibuha import SobolAnalyzer\nfrom aixcalibuha.data_types import merge_calibration_classes\nfrom ebcpy.utils.conversion import convert_tsd_to_modelica_txt\n"
        },
        {
            "cell_type": "markdown",
            "metadata": {},
            "source": "Please define the missing TODOs in the section below according to the docstrings.\n"
        },
        {
            "cell_type": "code",
            "execution_count": null,
            "metadata": {},
            "outputs": [],
            "source": "\"\"\"\nExample process of a verbose sensitivity analysis with the dymola_api.\n\n:param [Path, str] examples_dir:\n    Path to the examples folder of AixCaliBuHA\n:param [Path, str] aixlib_mo:\n    Path to the AixLib package.mo file.\n:param str example:\n    Which example to run, \"A\" or \"B\"\n:param int n_cpu:\n    Number of cores to use\n\n:return: A list of calibration classes\n:rtype: list\n\"\"\"\nexamples_dir = \"TODO: Add a valid input according to the docstring above\"\naixlib_mo = \"TODO: Add a valid input according to the docstring above\"\nexample: str  =  \"B\"\nn_cpu: int  =  1\n"
        },
        {
            "cell_type": "markdown",
            "metadata": {},
            "source": "## Setup\nUsing a dymola api instead of the fmu api\n"
        },
        {
            "cell_type": "code",
            "execution_count": null,
            "metadata": {},
            "outputs": [],
            "source": "examples_dir = Path(examples_dir)\nsim_api = setup_dym_api(examples_dir=examples_dir,\n                        aixlib_mo=aixlib_mo,\n                        example=example,\n                        n_cpu=n_cpu)\ncalibration_classes = setup_calibration_classes(\n    examples_dir=examples_dir, example=example, multiple_classes=False\n)[0]\nmerged_calibration_classes = merge_calibration_classes(calibration_classes)\nmerged_calibration_classes[0].name = 'global'\ncalibration_classes = setup_calibration_classes(\n    examples_dir=examples_dir, example=example, multiple_classes=True\n)[0]\nmerged_calibration_classes.extend(merge_calibration_classes(calibration_classes))\n\nif example == 'B':\n    merged_calibration_classes[-1].tuner_paras = merged_calibration_classes[0].tuner_paras\n"
        },
        {
            "cell_type": "markdown",
            "metadata": {},
            "source": "## Example of Sobol method\nSet up Sobol analyzer\n"
        },
        {
            "cell_type": "code",
            "execution_count": null,
            "metadata": {},
            "outputs": [],
            "source": "sen_analyzer = SobolAnalyzer(\n    sim_api=sim_api,\n    num_samples=2,\n    calc_second_order=True,\n    cd=examples_dir.joinpath('testzone', f'verbose_sen_dymola_{example}'),\n    save_files=True,\n    load_files=False,\n    savepath_sim=examples_dir.joinpath('testzone', f'verbose_sen_dymola_{example}', 'files'),\n    suffix_files='mat'\n)\n"
        },
        {
            "cell_type": "markdown",
            "metadata": {},
            "source": "The only difference to the fmu example is the handling of inputs.\nThere we have in the model now a table for the inputs and generate\nan input file here. This is only necessary for example A because\nexample B has no inputs. To generate the input in the correct format,\nuse the convert_tsd_to_modelica_txt function:\n"
        },
        {
            "cell_type": "code",
            "execution_count": null,
            "metadata": {},
            "outputs": [],
            "source": "if example == \"A\":\n    table_name = \"InputTDryBul\"\n    file_name = r\"D:\\dymola_inputs_A.txt\"\n    print(file_name)\n    filepath = convert_tsd_to_modelica_txt(\n        tsd=merged_calibration_classes[0].inputs,\n        table_name=table_name,\n        save_path_file=file_name\n    )\n    # Now we can remove the input from the old fmu calibration classes\n    for cal_class in merged_calibration_classes:\n        cal_class._inputs = None\n    print(\"Successfully created Dymola input file at\", filepath)\n"
        },
        {
            "cell_type": "markdown",
            "metadata": {},
            "source": "run sensitivity analysis\n"
        },
        {
            "cell_type": "code",
            "execution_count": null,
            "metadata": {},
            "outputs": [],
            "source": "result, classes = sen_analyzer.run(calibration_classes=merged_calibration_classes,\n                                   verbose=True,\n                                   use_first_sim=True,\n                                   plot_result=True,\n                                   save_results=True,\n                                   n_cpu=2)\nprint(\"Result of the sensitivity analysis\")\nprint('First and total order results of sobol method')\nprint(result[0].to_string())\nprint('Second order results of sobol method')\nprint(result[1].to_string())\n"
        },
        {
            "cell_type": "markdown",
            "metadata": {},
            "source": "remove input file\n"
        },
        {
            "cell_type": "code",
            "execution_count": null,
            "metadata": {},
            "outputs": [],
            "source": "if example == \"A\":\n    os.remove(file_name)\n"
        }
    ],
    "metadata": {
        "kernelspec": {
            "display_name": "Python 3",
            "language": "python",
            "name": "python3"
        },
        "language_info": {
            "codemirror_mode": {
                "name": "ipython",
                "version": 3
            },
            "file_extension": ".py",
            "mimetype": "text/x-python",
            "name": "python",
            "nbconvert_exporter": "python",
            "pygments_lexer": "ipython3",
            "version": "3.6.4"
        }
    },
    "nbformat": 4,
    "nbformat_minor": 2
}
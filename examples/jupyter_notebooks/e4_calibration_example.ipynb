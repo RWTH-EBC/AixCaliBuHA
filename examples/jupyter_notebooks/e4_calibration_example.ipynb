{
    "cells": [
        {
            "cell_type": "markdown",
            "metadata": {},
            "source": "# Example 3 sensitivity analysis\n"
        },
        {
            "cell_type": "markdown",
            "metadata": {},
            "source": "Goals of this part of the examples:\n1. Learn the settings for a calibration\n2. Learn how to use both Single- and MultiClassCalibration\n3. Learn how to validate your calibration\n"
        },
        {
            "cell_type": "code",
            "execution_count": null,
            "metadata": {},
            "outputs": [],
            "source": "import numpy as np\nfrom aixcalibuha import CalibrationClass, Calibrator, MultipleClassCalibrator\n"
        },
        {
            "cell_type": "markdown",
            "metadata": {},
            "source": "Please define the missing TODOs in the section below according to the docstrings.\n"
        },
        {
            "cell_type": "code",
            "execution_count": null,
            "metadata": {},
            "outputs": [],
            "source": "\"\"\"\nRun an example for a calibration. Make sure you have Dymola installed\non your device and a working licence. All output data will be stored in\nthe current working directory of python. Look at the logs and plots\nto better understand what is happening in the calibration. If you want, you\ncan switch the methods to other supported methods or change the framework and\ntry the global optimizer of dlib.\n\n:param [Path, str] examples_dir:\n    Path to the examples folder of AixCaliBuHA\n:param str example:\n    Which example to run, \"A\" or \"B\"\n:param int n_cpu:\n    Number of cores to use\n\nOptional, for the fully automated process\n:param ebcpy.simulationapi.SimulationAPI sim_api:\n    Simulation API to simulate the models\n:param list[CalibrationClass] cal_classes:\n    List with multiple CalibrationClass objects for calibration. Goals and\n    TunerParameters have to be set. If only one class is provided (either\n    a list with one entry or a CalibrationClass object) the single-class\n    Calibrator is used.\n:param CalibrationClass framework:\n    See Documentation of ebcpy on available optimization frameworks\n:param str method:\n    See Documentation of ebcpy on available optimization framework methods\n\"\"\"\nexamples_dir = \"TODO: Add a valid input according to the docstring above\"\nexample = \"B\"\nn_cpu: int  =  1\nsim_api = None\ncal_classes = None\nframework: str  =  \"scipy_differential_evolution\"\nmethod: str  =  \"best1bin\"\n"
        },
        {
            "cell_type": "markdown",
            "metadata": {},
            "source": "## Setup\nStart by loading the simulation api and the calibration classes\n"
        },
        {
            "cell_type": "code",
            "execution_count": null,
            "metadata": {},
            "outputs": [],
            "source": "from examples import setup_fmu, setup_calibration_classes\nif sim_api is None:\n    sim_api = setup_fmu(examples_dir=examples_dir, example=example, n_cpu=n_cpu)\ndefault_cal_classes, validation_class = setup_calibration_classes(\n    examples_dir=examples_dir,\n    example=example,\n    multiple_classes=False\n)\nif cal_classes is None:\n    cal_classes = default_cal_classes\n"
        },
        {
            "cell_type": "markdown",
            "metadata": {},
            "source": "## Calibration and optimization settings\nWe refer to the docstrings on more information on each setting.\nSpecify values for keyword-arguments to customize\nthe Calibration process for a single-class calibration\n"
        },
        {
            "cell_type": "code",
            "execution_count": null,
            "metadata": {},
            "outputs": [],
            "source": "kwargs_calibrator = {\"timedelta\": 0,\n                     \"save_files\": False,\n                     \"verbose_logging\": True,\n                     \"show_plot\": True,\n                     \"create_tsd_plot\": True,\n                     \"save_tsd_plot\": True,\n                     \"show_plot_pause_time\": 1e-3,\n                     \"plot_file_type\": \"png\",\n                     \"fail_on_error\": False,\n                     \"ret_val_on_error\": np.NAN,\n                     # For this example, let's keep the runtime low\n                     \"max_itercount\": 100\n                     }\n"
        },
        {
            "cell_type": "markdown",
            "metadata": {},
            "source": "Specify values for keyword-arguments to customize\nthe Calibration process for a multiple-class calibration\n"
        },
        {
            "cell_type": "code",
            "execution_count": null,
            "metadata": {},
            "outputs": [],
            "source": "kwargs_multiple_classes = {\"merge_multiple_classes\": True}\n"
        },
        {
            "cell_type": "markdown",
            "metadata": {},
            "source": "Specify solver-specific keyword-arguments depending on the solver and method you will use\n"
        },
        {
            "cell_type": "code",
            "execution_count": null,
            "metadata": {},
            "outputs": [],
            "source": "kwargs_scipy_dif_evo = {\"maxiter\": 30,\n                        \"popsize\": 5,\n                        \"mutation\": (0.5, 1),\n                        \"recombination\": 0.7,\n                        \"seed\": None,\n                        \"polish\": True,\n                        \"init\": 'latinhypercube',\n                        \"atol\": 0}\nkwargs_dlib_min = {\"num_function_calls\": int(1e9),\n                   \"solver_epsilon\": 0}\nkwargs_scipy_min = {\"tol\": None,\n                    \"options\": {\"maxfun\": 1},\n                    \"constraints\": None,\n                    \"jac\": None,\n                    \"hess\": None,\n                    \"hessp\": None}\nkwargs_pymoo = {\"pop_size\": 20,\n                \"sampling\": \"real_random\",  # Notice that changing Hyper-Parameters may change pop size.\n                \"selection\": \"random\",\n                \"crossover\": \"real_sbx\",\n                \"mutation\": \"real_pm\",\n                \"eliminate_duplicates\": True,\n                \"n_offsprings\": None}\n"
        },
        {
            "cell_type": "markdown",
            "metadata": {},
            "source": "Merge the dictionaries into one.\nIf you change the solver, also change the solver-kwargs-dict in the line below\n"
        },
        {
            "cell_type": "code",
            "execution_count": null,
            "metadata": {},
            "outputs": [],
            "source": "if framework == \"scipy_differential_evolution\":\n    kwargs_optimization = kwargs_scipy_dif_evo\nelif framework == \"scipy_minimize\":\n    kwargs_optimization = kwargs_scipy_min\nelif framework == \"dlib_minimize\":\n    kwargs_optimization = kwargs_dlib_min\nelif framework == \"pymoo\":\n    kwargs_optimization = kwargs_pymoo\nelse:\n    kwargs_optimization = {}\n"
        },
        {
            "cell_type": "markdown",
            "metadata": {},
            "source": "Check if pymoo is being used for Multiprocessing\n"
        },
        {
            "cell_type": "code",
            "execution_count": null,
            "metadata": {},
            "outputs": [],
            "source": "if framework != \"pymoo\" and sim_api.n_cpu > 1:\n    raise TypeError(f\"Given framework {framework} does not support Multiprocessing.\"\n                    f\"Please use pymoo as your framework.\")\n"
        },
        {
            "cell_type": "markdown",
            "metadata": {},
            "source": "Select between single or multiple class calibration\n"
        },
        {
            "cell_type": "code",
            "execution_count": null,
            "metadata": {},
            "outputs": [],
            "source": "if isinstance(cal_classes, CalibrationClass):\n    modelica_calibrator = Calibrator(\n        cd=sim_api.cd,\n        sim_api=sim_api,\n        calibration_class=cal_classes,\n        **kwargs_calibrator)\nelse:\n    kwargs_calibrator.update(kwargs_multiple_classes)\n    # Setup the class\n    modelica_calibrator = MultipleClassCalibrator(\n        cd=sim_api.cd,\n        sim_api=sim_api,\n        calibration_classes=cal_classes,\n        start_time_method=\"fixstart\",\n        **kwargs_calibrator)\n"
        },
        {
            "cell_type": "markdown",
            "metadata": {},
            "source": "## Calibration\nStart the calibration process\n"
        },
        {
            "cell_type": "code",
            "execution_count": null,
            "metadata": {},
            "outputs": [],
            "source": "result = modelica_calibrator.calibrate(\n    framework=framework,\n    method=method,\n    **kwargs_optimization\n)\n"
        },
        {
            "cell_type": "markdown",
            "metadata": {},
            "source": "## Validation\nStart the validation process\n"
        },
        {
            "cell_type": "code",
            "execution_count": null,
            "metadata": {},
            "outputs": [],
            "source": "modelica_calibrator.validate(\n    validation_class=validation_class,\n    calibration_result=result\n)\n"
        },
        {
            "cell_type": "markdown",
            "metadata": {},
            "source": "Don't forget to close the simulation api:\n"
        },
        {
            "cell_type": "code",
            "execution_count": null,
            "metadata": {},
            "outputs": [],
            "source": "sim_api.close()\n"
        }
    ],
    "metadata": {
        "kernelspec": {
            "display_name": "Python 3",
            "language": "python",
            "name": "python3"
        },
        "language_info": {
            "codemirror_mode": {
                "name": "ipython",
                "version": 3
            },
            "file_extension": ".py",
            "mimetype": "text/x-python",
            "name": "python",
            "nbconvert_exporter": "python",
            "pygments_lexer": "ipython3",
            "version": "3.6.4"
        }
    },
    "nbformat": 4,
    "nbformat_minor": 2
}
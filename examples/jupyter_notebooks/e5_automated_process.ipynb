{
    "cells": [
        {
            "cell_type": "markdown",
            "metadata": {},
            "source": " # Example 5 Automated process\n"
        },
        {
            "cell_type": "markdown",
            "metadata": {},
            "source": " Goals of this part of the examples:\n 1. Learn how to run everything in one script\n\n Start by importing everything\n"
        },
        {
            "cell_type": "code",
            "execution_count": null,
            "metadata": {},
            "outputs": [],
            "source": "from examples import setup_fmu, setup_calibration_classes\nfrom examples.e3_sensitivity_analysis_example import run_sensitivity_analysis\nfrom examples.e4_calibration_example import run_calibration\n\n\n\"\"\"\nArguments of this example:\n\n:param str example:\n    Whether to use example A (requires windows) or B.\n    Default is \"A\"\n\"\"\"\nexample = \"A\"\n"
        },
        {
            "cell_type": "markdown",
            "metadata": {},
            "source": " First we run the sensitivity analysis:\n"
        },
        {
            "cell_type": "code",
            "execution_count": null,
            "metadata": {},
            "outputs": [],
            "source": "calibration_classes, sim_api = run_sensitivity_analysis(example=example)\n"
        },
        {
            "cell_type": "markdown",
            "metadata": {},
            "source": " Then the calibration and validation\n"
        },
        {
            "cell_type": "code",
            "execution_count": null,
            "metadata": {},
            "outputs": [],
            "source": "run_calibration(example=example,\n                sim_api=sim_api,\n                cal_classes=calibration_classes)\n"
        }
    ],
    "metadata": {
        "kernelspec": {
            "display_name": "Python 3",
            "language": "python",
            "name": "python3"
        },
        "language_info": {
            "codemirror_mode": {
                "name": "ipython",
                "version": 3
            },
            "file_extension": ".py",
            "mimetype": "text/x-python",
            "name": "python",
            "nbconvert_exporter": "python",
            "pygments_lexer": "ipython3",
            "version": "3.6.4"
        }
    },
    "nbformat": 4,
    "nbformat_minor": 2
}
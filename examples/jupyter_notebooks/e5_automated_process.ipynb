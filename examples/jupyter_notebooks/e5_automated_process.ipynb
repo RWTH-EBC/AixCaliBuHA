{
    "cells": [
        {
            "cell_type": "markdown",
            "metadata": {},
            "source": "# Example 5 Automated process\n"
        },
        {
            "cell_type": "markdown",
            "metadata": {},
            "source": "Goals of this part of the examples:\n1. Learn how to run everything in one script\n\nStart by importing everything\n"
        },
        {
            "cell_type": "code",
            "execution_count": null,
            "metadata": {},
            "outputs": [],
            "source": "from examples.e3_sensitivity_analysis_example import run_sensitivity_analysis\nfrom examples.e4_calibration_example import run_calibration\n"
        },
        {
            "cell_type": "markdown",
            "metadata": {},
            "source": "Please define the missing TODOs in the section below according to the docstrings.\n"
        },
        {
            "cell_type": "code",
            "execution_count": null,
            "metadata": {},
            "outputs": [],
            "source": "\"\"\"\nArguments of this example:\n\n:param [Path, str] examples_dir:\n    Path to the examples folder of AixCaliBuHA\n:param str example:\n    Whether to use example A (requires windows) or B.\n    Default is \"A\"\n:param int n_cpu:\n    Number of cores to use\n\"\"\"\nexamples_dir = \"TODO: Add a valid input according to the docstring above\"\nexample: str  =  \"A\"\nn_cpu: int  =  1\n"
        },
        {
            "cell_type": "markdown",
            "metadata": {},
            "source": "First we run the sensitivity analysis:\n"
        },
        {
            "cell_type": "code",
            "execution_count": null,
            "metadata": {},
            "outputs": [],
            "source": "calibration_classes, sim_api = run_sensitivity_analysis(\n    examples_dir=examples_dir, example=example, n_cpu=n_cpu\n)\n"
        },
        {
            "cell_type": "markdown",
            "metadata": {},
            "source": "Then the calibration and validation\n"
        },
        {
            "cell_type": "code",
            "execution_count": null,
            "metadata": {},
            "outputs": [],
            "source": "run_calibration(\n    examples_dir=examples_dir,\n    example=example,\n    sim_api=sim_api,\n    cal_classes=calibration_classes\n)\n"
        }
    ],
    "metadata": {
        "kernelspec": {
            "display_name": "Python 3",
            "language": "python",
            "name": "python3"
        },
        "language_info": {
            "codemirror_mode": {
                "name": "ipython",
                "version": 3
            },
            "file_extension": ".py",
            "mimetype": "text/x-python",
            "name": "python",
            "nbconvert_exporter": "python",
            "pygments_lexer": "ipython3",
            "version": "3.6.4"
        }
    },
    "nbformat": 4,
    "nbformat_minor": 2
}